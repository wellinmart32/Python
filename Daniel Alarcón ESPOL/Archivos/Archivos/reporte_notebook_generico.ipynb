{
 "cells": [
  {
   "cell_type": "markdown",
   "metadata": {},
   "source": [
    "\n",
    "# Practica de Laboratorio #\n",
    "\n",
    "## Nombre y Apellidos: xxx\n",
    "\n",
    "## Fecha: xxx\n",
    "\n",
    "## Titulo\n",
    "Practica acerca de ....\n",
    "\n",
    "## Resumen\n",
    "\n",
    "En esta practica, ....\n"
   ]
  },
  {
   "cell_type": "markdown",
   "metadata": {},
   "source": [
    "\n",
    "\n",
    "\n",
    "## Tareas / Ejercicios\n",
    "\n",
    "\n"
   ]
  },
  {
   "cell_type": "markdown",
   "metadata": {},
   "source": [
    "\n",
    "\n",
    "\n",
    "### 1. Subtitulo.\n",
    "\n",
    "\n",
    "Escribir con sus propias palabras que tarea usted realizo, cuales son los datos del problema.\n",
    "\n",
    "1. Escriba el resumen del literal y cual es su solucion del problema a resolver, que parametros usted esta tomando para obtener resultados del problema\n",
    "\n",
    "2. ....\n",
    "\n",
    "3. ....\n",
    "\n"
   ]
  },
  {
   "cell_type": "code",
   "execution_count": null,
   "metadata": {},
   "outputs": [],
   "source": []
  },
  {
   "cell_type": "markdown",
   "metadata": {},
   "source": [
    "Inserte comentarios acerca del resultado de su codigo o grafica por cada celda de codigo Python."
   ]
  },
  {
   "cell_type": "code",
   "execution_count": null,
   "metadata": {},
   "outputs": [],
   "source": []
  },
  {
   "cell_type": "markdown",
   "metadata": {},
   "source": [
    "### 2. Subtitulo\n",
    "\n",
    "Escribir con sus propias palabras que tarea usted realizo, cuales son los datos del problema.\n",
    "\n",
    "1. Escriba el resumen del literal y cual es su solucion del problema a resolver, que parametros usted esta tomando para obtener resultados del problema\n",
    "\n",
    "2. ....\n",
    "\n",
    "3. ....\n",
    "\n"
   ]
  },
  {
   "cell_type": "code",
   "execution_count": null,
   "metadata": {},
   "outputs": [],
   "source": []
  },
  {
   "cell_type": "code",
   "execution_count": null,
   "metadata": {},
   "outputs": [],
   "source": []
  },
  {
   "cell_type": "markdown",
   "metadata": {},
   "source": [
    "Inserte comentarios de sus resultados, observaciones o conclusiones obtenidas."
   ]
  }
 ],
 "metadata": {
  "kernelspec": {
   "display_name": "Python 3",
   "language": "python",
   "name": "python3"
  },
  "language_info": {
   "codemirror_mode": {
    "name": "ipython",
    "version": 3
   },
   "file_extension": ".py",
   "mimetype": "text/x-python",
   "name": "python",
   "nbconvert_exporter": "python",
   "pygments_lexer": "ipython3",
   "version": "3.8.5"
  },
  "latex_envs": {
   "LaTeX_envs_menu_present": true,
   "autoclose": false,
   "autocomplete": true,
   "bibliofile": "biblio.bib",
   "cite_by": "apalike",
   "current_citInitial": 1,
   "eqLabelWithNumbers": true,
   "eqNumInitial": 1,
   "hotkeys": {
    "equation": "Ctrl-E",
    "itemize": "Ctrl-I"
   },
   "labels_anchors": false,
   "latex_user_defs": false,
   "report_style_numbering": false,
   "user_envs_cfg": false
  }
 },
 "nbformat": 4,
 "nbformat_minor": 2
}
